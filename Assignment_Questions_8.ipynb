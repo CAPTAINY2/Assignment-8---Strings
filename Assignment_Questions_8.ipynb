{
  "nbformat": 4,
  "nbformat_minor": 0,
  "metadata": {
    "colab": {
      "provenance": [],
      "authorship_tag": "ABX9TyOYo3+eMUkd1C6X3lKkxnra",
      "include_colab_link": true
    },
    "kernelspec": {
      "name": "python3",
      "display_name": "Python 3"
    },
    "language_info": {
      "name": "python"
    }
  },
  "cells": [
    {
      "cell_type": "markdown",
      "metadata": {
        "id": "view-in-github",
        "colab_type": "text"
      },
      "source": [
        "<a href=\"https://colab.research.google.com/github/CAPTAINY2/Assignment-8---Strings/blob/main/Assignment_Questions_8.ipynb\" target=\"_parent\"><img src=\"https://colab.research.google.com/assets/colab-badge.svg\" alt=\"Open In Colab\"/></a>"
      ]
    },
    {
      "cell_type": "markdown",
      "source": [
        "### QUESTION-1"
      ],
      "metadata": {
        "id": "Mfpx96XF7DSk"
      }
    },
    {
      "cell_type": "code",
      "execution_count": 1,
      "metadata": {
        "colab": {
          "base_uri": "https://localhost:8080/"
        },
        "id": "yXMOyMbaim33",
        "outputId": "a1b29c56-8249-4cc7-b8a0-2b2790a9b337"
      },
      "outputs": [
        {
          "output_type": "stream",
          "name": "stdout",
          "text": [
            "Output: 231\n"
          ]
        }
      ],
      "source": [
        "s1 = \"sea\"\n",
        "s2 = \"eat\"\n",
        "\n",
        "def sum(s1, s2):\n",
        "    m = len(s1)\n",
        "    n= len(s2)\n",
        "    dp = [[0] * (n+1) for _ in range(m+1)]\n",
        "\n",
        "    for i in range(1, m+1):\n",
        "        dp[i][0] = dp[i-1][0] + ord(s1[i-1])\n",
        "    for j in range(1, n+1):\n",
        "        dp[0][j] = dp[0][j-1] + ord(s2[j-1])\n",
        "\n",
        "    for i in range(1, m+1):\n",
        "        for j in range(1, n+1):\n",
        "            if s1[i-1] == s2[j-1]:\n",
        "                dp[i][j] = dp[i-1][j-1]\n",
        "            else:\n",
        "                dp[i][j] = min(dp[i-1][j] + ord(s1[i-1]), dp[i][j-1] + ord(s2[j-1]))\n",
        "\n",
        "    return dp[m][n]\n",
        "\n",
        "print(f\"Output: {sum(s1, s2)}\")"
      ]
    },
    {
      "cell_type": "markdown",
      "source": [
        "### QUESTION-2"
      ],
      "metadata": {
        "id": "glbO9qlL7KmE"
      }
    },
    {
      "cell_type": "code",
      "source": [
        "s = \"()\"\n",
        "\n",
        "def valid_str(s):\n",
        "    stack = []\n",
        "\n",
        "    for i in s:\n",
        "        if i == '(' or i == '*':\n",
        "            stack.append(i)\n",
        "        elif i == ')':\n",
        "            if stack and (stack[-1] == '(' or stack[-1] == '*'):\n",
        "                stack.pop()\n",
        "            else:\n",
        "                return False\n",
        "\n",
        "    while stack:\n",
        "        if stack[-1] == '(' or stack[-1] == '*':\n",
        "            stack.pop()\n",
        "        else:\n",
        "            return False\n",
        "\n",
        "    return True\n",
        "\n",
        "print(f\"Output: {valid_str(s)}\")\n",
        "\n"
      ],
      "metadata": {
        "colab": {
          "base_uri": "https://localhost:8080/"
        },
        "id": "5mF4G0dIlrBr",
        "outputId": "a93ac676-a2e0-4158-a6cd-301907063ef9"
      },
      "execution_count": 2,
      "outputs": [
        {
          "output_type": "stream",
          "name": "stdout",
          "text": [
            "Output: True\n"
          ]
        }
      ]
    },
    {
      "cell_type": "markdown",
      "source": [
        "### QUESTION-3"
      ],
      "metadata": {
        "id": "Liv16YWB7Py6"
      }
    },
    {
      "cell_type": "code",
      "source": [
        "word1 = \"sea\"\n",
        "word2 = \"eat\"\n",
        "\n",
        "def steps(word1, word2):\n",
        "    m, n = len(word1), len(word2)\n",
        "    dp = [[0] * (n+1) for _ in range(m+1)]\n",
        "\n",
        "    for i in range(1, m+1):\n",
        "        dp[i][0] = i\n",
        "    for j in range(1, n+1):\n",
        "        dp[0][j] = j\n",
        "\n",
        "    for i in range(1, m+1):\n",
        "        for j in range(1, n+1):\n",
        "            if word1[i-1] == word2[j-1]:\n",
        "                dp[i][j] = dp[i-1][j-1]\n",
        "            else:\n",
        "                dp[i][j] = min(dp[i-1][j] + 1, dp[i][j-1] + 1)\n",
        "\n",
        "    return dp[m][n]\n",
        "\n",
        "print(f\"Output: {steps(word1, word2)}\")"
      ],
      "metadata": {
        "colab": {
          "base_uri": "https://localhost:8080/"
        },
        "id": "VLZJqTWomdkA",
        "outputId": "6c605699-47d1-4476-847b-659e2bfbb880"
      },
      "execution_count": 3,
      "outputs": [
        {
          "output_type": "stream",
          "name": "stdout",
          "text": [
            "Output: 2\n"
          ]
        }
      ]
    },
    {
      "cell_type": "markdown",
      "source": [
        "### QUESTION-4"
      ],
      "metadata": {
        "id": "-VL4U9MF7YnU"
      }
    },
    {
      "cell_type": "markdown",
      "source": [
        "### QUESTION-5"
      ],
      "metadata": {
        "id": "_XELdTw07V44"
      }
    },
    {
      "cell_type": "code",
      "source": [
        "chr = [\"a\", \"a\", \"b\", \"b\", \"c\", \"c\", \"c\"]\n",
        "new_length = compress(chr)\n",
        "\n",
        "def compress(chr):\n",
        "    read = 0\n",
        "    write = 0\n",
        "    count = 1\n",
        "\n",
        "    for i in range(1, len(chr) + 1):\n",
        "        if i < len(chr) and chr[i] == chr[i - 1]:\n",
        "            count += 1\n",
        "        else:\n",
        "            chr[write] = chr[read]\n",
        "            write += 1\n",
        "            if count > 1:\n",
        "                count_str = str(count)\n",
        "                for digit in count_str:\n",
        "                    chr[write] = digit\n",
        "                    write += 1\n",
        "            count = 1\n",
        "            read = i\n",
        "\n",
        "    return write\n",
        "\n",
        "compressed_chars = chr[:new_length]\n",
        "print(f\"Output: {new_length}\")\n",
        "print(f\"The first 6 characters of the input array should be: {compressed_chars}\")\n"
      ],
      "metadata": {
        "colab": {
          "base_uri": "https://localhost:8080/"
        },
        "id": "TIt1cgxisxnE",
        "outputId": "0edf8118-2669-4c59-d1d4-0c185a67d49f"
      },
      "execution_count": 26,
      "outputs": [
        {
          "output_type": "stream",
          "name": "stdout",
          "text": [
            "Output: 6\n",
            "The first 6 characters of the input array should be: ['a', '2', 'b', '2', 'c', '3']\n"
          ]
        }
      ]
    },
    {
      "cell_type": "markdown",
      "source": [
        "### QUESTION-6"
      ],
      "metadata": {
        "id": "CKTnmDiz7az4"
      }
    },
    {
      "cell_type": "code",
      "source": [
        "s = \"cbaebabacd\"\n",
        "p = \"abc\"\n",
        "\n",
        "from collections import Counter\n",
        "\n",
        "def anagrams(s, p):\n",
        "    result = []\n",
        "    p_freq = Counter(p)\n",
        "    freq = Counter()\n",
        "    left, right = 0, 0\n",
        "\n",
        "    while right < len(s):\n",
        "        freq[s[right]] += 1\n",
        "\n",
        "        if right - left + 1 == len(p):\n",
        "            if freq == p_freq:\n",
        "                result.append(left)\n",
        "\n",
        "            freq[s[left]] -= 1\n",
        "            if freq[s[left]] == 0:\n",
        "                del freq[s[left]]\n",
        "            left += 1\n",
        "\n",
        "        right += 1\n",
        "\n",
        "    return result\n",
        "\n",
        "print(f\"Output: {anagrams(s, p)}\")"
      ],
      "metadata": {
        "colab": {
          "base_uri": "https://localhost:8080/"
        },
        "id": "yDpzyVlytKEW",
        "outputId": "7dfb8e5b-b9f9-47f2-87c9-553da328190a"
      },
      "execution_count": 27,
      "outputs": [
        {
          "output_type": "stream",
          "name": "stdout",
          "text": [
            "Output: [0, 6]\n"
          ]
        }
      ]
    },
    {
      "cell_type": "markdown",
      "source": [
        "### QUESTION-7"
      ],
      "metadata": {
        "id": "Go-ydjC67cY_"
      }
    },
    {
      "cell_type": "code",
      "source": [
        "s = \"3[a]2[bc]\"\n",
        "\n",
        "def decode(s):\n",
        "    stack = []\n",
        "\n",
        "    for i in s:\n",
        "        if i != ']':\n",
        "            stack.append(i)\n",
        "        else:\n",
        "            k = ''\n",
        "            while stack[-1] != '[':\n",
        "                k = stack.pop() + k\n",
        "            stack.pop()\n",
        "\n",
        "            count = ''\n",
        "            while stack and stack[-1].isdigit():\n",
        "                count = stack.pop() + count\n",
        "            count = int(count)\n",
        "\n",
        "            decoded_str = k * count\n",
        "            stack.append(decoded_str)\n",
        "\n",
        "    return ''.join(stack)\n",
        "\n",
        "print(f\"Output: {decode(s)}\")\n"
      ],
      "metadata": {
        "colab": {
          "base_uri": "https://localhost:8080/"
        },
        "id": "ymVYTtPk18BP",
        "outputId": "2b7520cb-d06b-42b8-ceaf-03d4df45a8e3"
      },
      "execution_count": 33,
      "outputs": [
        {
          "output_type": "stream",
          "name": "stdout",
          "text": [
            "Output: aaabcbc\n"
          ]
        }
      ]
    },
    {
      "cell_type": "markdown",
      "source": [
        "### QUESTION-8"
      ],
      "metadata": {
        "id": "OGwxUZYK7d79"
      }
    },
    {
      "cell_type": "code",
      "source": [
        "s = \"ab\"\n",
        "goal = \"ba\"\n",
        "\n",
        "def string(s, goal):\n",
        "    if len(s) != len(goal):\n",
        "        return False\n",
        "\n",
        "    if s == goal:\n",
        "        seen = set()\n",
        "        for i in s:\n",
        "            if i in seen:\n",
        "                return True\n",
        "            seen.add(i)\n",
        "        return False\n",
        "\n",
        "    count = 0\n",
        "    positions = []\n",
        "    for i in range(len(s)):\n",
        "        if s[i] != goal[i]:\n",
        "            count += 1\n",
        "            positions.append(i)\n",
        "        if count > 2:\n",
        "            return False\n",
        "\n",
        "    if count == 2 and s[positions[0]] == goal[positions[1]] and s[positions[1]] == goal[positions[0]]:\n",
        "        return True\n",
        "\n",
        "    return False\n",
        "\n",
        "result = string(s, goal)\n",
        "print(f\"Output: {result}\")\n"
      ],
      "metadata": {
        "colab": {
          "base_uri": "https://localhost:8080/"
        },
        "id": "n5C6h3ql4Cvb",
        "outputId": "e5177616-1f65-4a06-c8e3-4e11a3afbd84"
      },
      "execution_count": 45,
      "outputs": [
        {
          "output_type": "stream",
          "name": "stdout",
          "text": [
            "Output: True\n"
          ]
        }
      ]
    },
    {
      "cell_type": "markdown",
      "source": [],
      "metadata": {
        "id": "PYlYGaD67BkE"
      }
    },
    {
      "cell_type": "code",
      "source": [],
      "metadata": {
        "id": "Lxf8JJLH6M0S"
      },
      "execution_count": null,
      "outputs": []
    }
  ]
}